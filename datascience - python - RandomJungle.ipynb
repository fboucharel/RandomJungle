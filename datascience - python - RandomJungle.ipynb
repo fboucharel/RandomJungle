{
 "cells": [
  {
   "cell_type": "markdown",
   "metadata": {},
   "source": [
    "## <center><font color = 'green'> RandomJungle </font></center>"
   ]
  },
  {
   "cell_type": "markdown",
   "metadata": {},
   "source": [
    "### Librairies Python"
   ]
  },
  {
   "cell_type": "code",
   "execution_count": 1,
   "metadata": {},
   "outputs": [],
   "source": [
    "%matplotlib inline\n",
    "\n",
    "import numpy as np \n",
    "import pandas as pd\n",
    "import sklearn as skl"
   ]
  },
  {
   "cell_type": "markdown",
   "metadata": {},
   "source": [
    "### Jeux de données artificiel"
   ]
  },
  {
   "cell_type": "code",
   "execution_count": 35,
   "metadata": {},
   "outputs": [],
   "source": [
    "from sklearn.datasets import make_classification\n",
    "\n",
    "X, y = make_classification(n_samples = 60000 , \n",
    "                           n_features = 25 , \n",
    "                           n_informative = 15 ,\n",
    "                           n_redundant = 0 , \n",
    "                           n_repeated = 0 , \n",
    "                           n_classes = 2 ,\n",
    "                           n_clusters_per_class = 1 ,\n",
    "                           weights =[ 0.99 , 0.01 ] ,\n",
    "                           class_sep = 0.8 , \n",
    "                           random_state = 0 )\n"
   ]
  },
  {
   "cell_type": "markdown",
   "metadata": {},
   "source": [
    "### Transformations en dataframe (classes déséquilibrées)"
   ]
  },
  {
   "cell_type": "code",
   "execution_count": 36,
   "metadata": {},
   "outputs": [],
   "source": [
    "# Variables explicatives :\n",
    "\n",
    "X_var = [ 'x_' + str( k ) for k in range( 0 , X.shape[1] ) ]\n",
    "\n",
    "# Variable à expliquer :\n",
    "\n",
    "y_var = [ 'y' ]\n",
    "\n",
    "# Dataframes : \n",
    "\n",
    "df_X = pd.DataFrame( X , columns = X_var )\n",
    "\n",
    "df_y = pd.DataFrame( y , columns = y_var )"
   ]
  },
  {
   "cell_type": "markdown",
   "metadata": {},
   "source": [
    "### Empilement de df_X et df_y"
   ]
  },
  {
   "cell_type": "code",
   "execution_count": 37,
   "metadata": {},
   "outputs": [],
   "source": [
    "df = pd.concat( [ df_X , df_y ] , axis = 1 )"
   ]
  },
  {
   "cell_type": "markdown",
   "metadata": {},
   "source": [
    "## Modèles"
   ]
  },
  {
   "cell_type": "code",
   "execution_count": 38,
   "metadata": {},
   "outputs": [],
   "source": [
    "from sklearn.model_selection import train_test_split\n",
    "\n",
    "from sklearn.ensemble import RandomForestClassifier"
   ]
  },
  {
   "cell_type": "code",
   "execution_count": 39,
   "metadata": {},
   "outputs": [
    {
     "name": "stdout",
     "output_type": "stream",
     "text": [
      "df_train_all : (54000, 26)\n",
      "df_train_0 : (53201, 26)\n",
      "df_train_1 : (799, 26)\n",
      "df_test : (6000, 26)\n"
     ]
    },
    {
     "name": "stderr",
     "output_type": "stream",
     "text": [
      "C:\\Users\\FAB\\Anaconda3\\lib\\site-packages\\sklearn\\model_selection\\_split.py:2179: FutureWarning: From version 0.21, test_size will always complement train_size unless both are specified.\n",
      "  FutureWarning)\n"
     ]
    }
   ],
   "source": [
    "df_train_all , df_test = train_test_split( df , train_size = 0.9 )\n",
    "\n",
    "df_train_0 = df_train_all[ df_train_all[ 'y' ] == 0 ]\n",
    "df_train_1 = df_train_all[ df_train_all[ 'y' ] == 1 ]\n",
    "\n",
    "print( 'df_train_all : {0}'.format( df_train_all.shape ) )\n",
    "print( 'df_train_0 : {0}'.format( df_train_0.shape ) )\n",
    "print( 'df_train_1 : {0}'.format( df_train_1.shape ) )\n",
    "\n",
    "print( 'df_test : {0}'.format( df_test.shape ) )\n"
   ]
  },
  {
   "cell_type": "code",
   "execution_count": 40,
   "metadata": {},
   "outputs": [],
   "source": [
    "# train dataset :\n",
    "\n",
    "df_X_train_all = df_train_all[ X_var ]\n",
    "df_y_train_all = df_train_all[ y_var ]\n",
    "\n",
    "X_train_all = df_X_train_all.values\n",
    "y_train_all = np.ravel( df_y_train_all.values )\n",
    "\n",
    "# test dataset :\n",
    "\n",
    "df_X_test = df_test[ X_var ]\n",
    "df_y_test = df_test[ y_var ]\n",
    "\n",
    "X_test = df_X_test.values\n",
    "y_test = np.ravel( df_y_test.values )"
   ]
  },
  {
   "cell_type": "markdown",
   "metadata": {},
   "source": [
    "### Baseline"
   ]
  },
  {
   "cell_type": "code",
   "execution_count": 41,
   "metadata": {},
   "outputs": [],
   "source": [
    "from sklearn.ensemble import RandomForestClassifier\n",
    "\n",
    "from sklearn.model_selection import train_test_split\n",
    "\n",
    "from sklearn.metrics import accuracy_score\n",
    "\n",
    "from sklearn.metrics import confusion_matrix\n",
    "from sklearn.metrics import classification_report\n",
    "from sklearn.metrics import roc_auc_score\n",
    "\n",
    "import pickle"
   ]
  },
  {
   "cell_type": "code",
   "execution_count": 59,
   "metadata": {},
   "outputs": [
    {
     "name": "stdout",
     "output_type": "stream",
     "text": [
      "auc (test dataset) : \n",
      " 0.5807233494066234\n",
      "confusion matrix : \n",
      " [[5900    1]\n",
      " [  83   16]]\n"
     ]
    }
   ],
   "source": [
    "# Modèle de référence ( RandomForest ) pour comparaison avec modèle cible ( RandomJungle )\n",
    "\n",
    "lst_bsl_auc = []\n",
    "\n",
    "lst_bsl_cfu_mtx = []\n",
    "\n",
    "clf = RandomForestClassifier( n_estimators = 10 )\n",
    "\n",
    "clf.fit( X_train_all , y_train_all )\n",
    "\n",
    "# Sauvegarde du modèle sur disque\n",
    "filename = './mdl/_mdl' + '.sav'\n",
    "pickle.dump( clf , open( filename , 'wb' ) )\n",
    "    \n",
    "    \n",
    "# Prédictions sur test dataset\n",
    "y_test_pred = clf.predict( X_test )\n",
    "    \n",
    "# Matrice de confusion sur test dataset\n",
    "cfu_mtx = confusion_matrix( y_test , y_test_pred )\n",
    "\n",
    "lst_bsl_cfu_mtx = lst_bsl_cfu_mtx.append( cfu_mtx )\n",
    "    \n",
    "# AUC sur test dataset\n",
    "auc = roc_auc_score( y_test , y_test_pred )\n",
    "\n",
    "lst_bsl_auc = lst_bsl_auc.append( auc )\n",
    "    \n",
    "#print( 'confusion matrix (test dataset):\\n {0}'.format( cfu_mtx ) )\n",
    "print( 'baseline model : auc (test dataset) : \\n {0}'.format( auc ) )\n",
    "print( 'baseline model : confusion matrix (test dataset) : \\n {0}'.format( cfu_mtx ) )\n"
   ]
  },
  {
   "cell_type": "markdown",
   "metadata": {},
   "source": [
    "### <font : color = 'orange'> RandomJungle </font>"
   ]
  },
  {
   "cell_type": "markdown",
   "metadata": {},
   "source": [
    "### K RandomForest = RandomJungle"
   ]
  },
  {
   "cell_type": "code",
   "execution_count": 43,
   "metadata": {},
   "outputs": [
    {
     "name": "stdout",
     "output_type": "stream",
     "text": [
      "auc (test dataset) : \n",
      " 0.7241453682734821\n",
      "confusion matrix : \n",
      " [[4970  931]\n",
      " [  39   60]]\n",
      "auc (test dataset) : \n",
      " 0.7330781120816708\n",
      "confusion matrix : \n",
      " [[4837 1064]\n",
      " [  35   64]]\n",
      "auc (test dataset) : \n",
      " 0.7379411810016792\n",
      "confusion matrix : \n",
      " [[4954  947]\n",
      " [  36   63]]\n",
      "auc (test dataset) : \n",
      " 0.7365187205044856\n",
      "confusion matrix : \n",
      " [[4818 1083]\n",
      " [  34   65]]\n",
      "auc (test dataset) : \n",
      " 0.7465683782409761\n",
      "confusion matrix : \n",
      " [[4877 1024]\n",
      " [  33   66]]\n",
      "auc (test dataset) : \n",
      " 0.727298403454987\n",
      "confusion matrix : \n",
      " [[4888 1013]\n",
      " [  37   62]]\n",
      "auc (test dataset) : \n",
      " 0.761211504983747\n",
      "confusion matrix : \n",
      " [[4871 1030]\n",
      " [  30   69]]\n",
      "auc (test dataset) : \n",
      " 0.7210282797471409\n",
      "confusion matrix : \n",
      " [[4814 1087]\n",
      " [  37   62]]\n",
      "auc (test dataset) : \n",
      " 0.7350782866797102\n",
      "confusion matrix : \n",
      " [[4801 1100]\n",
      " [  34   65]]\n",
      "auc (test dataset) : \n",
      " 0.7507202169123877\n",
      "confusion matrix : \n",
      " [[4926  975]\n",
      " [  33   66]]\n",
      "auc (test dataset) : \n",
      " 0.7315015944909183\n",
      "confusion matrix : \n",
      " [[4878 1023]\n",
      " [  36   63]]\n",
      "auc (test dataset) : \n",
      " 0.712264998741867\n",
      "confusion matrix : \n",
      " [[4949  952]\n",
      " [  41   58]]\n",
      "auc (test dataset) : \n",
      " 0.7475671817308829\n",
      "confusion matrix : \n",
      " [[5008  893]\n",
      " [  35   64]]\n",
      "auc (test dataset) : \n",
      " 0.7380259124031365\n",
      "confusion matrix : \n",
      " [[4955  946]\n",
      " [  36   63]]\n",
      "auc (test dataset) : \n",
      " 0.7403650126070056\n",
      "confusion matrix : \n",
      " [[4923  978]\n",
      " [  35   64]]\n",
      "auc (test dataset) : \n",
      " 0.7178418655286982\n",
      "confusion matrix : \n",
      " [[4836 1065]\n",
      " [  38   61]]\n",
      "auc (test dataset) : \n",
      " 0.7284332907108708\n",
      "confusion matrix : \n",
      " [[4961  940]\n",
      " [  38   61]]\n",
      "auc (test dataset) : \n",
      " 0.739060662548207\n",
      "confusion matrix : \n",
      " [[4848 1053]\n",
      " [  34   65]]\n",
      "auc (test dataset) : \n",
      " 0.751110494882737\n",
      "confusion matrix : \n",
      " [[4871 1030]\n",
      " [  32   67]]\n",
      "auc (test dataset) : \n",
      " 0.7419081511608201\n",
      "confusion matrix : \n",
      " [[4822 1079]\n",
      " [  33   66]]\n",
      "auc (test dataset) : \n",
      " 0.7400774393656956\n",
      "confusion matrix : \n",
      " [[4860 1041]\n",
      " [  34   65]]\n",
      "auc (test dataset) : \n",
      " 0.7379078019647415\n",
      "confusion matrix : \n",
      " [[4894 1007]\n",
      " [  35   64]]\n",
      "auc (test dataset) : \n",
      " 0.7404163649715252\n",
      "confusion matrix : \n",
      " [[4864 1037]\n",
      " [  34   65]]\n",
      "auc (test dataset) : \n",
      " 0.718840669018605\n",
      "confusion matrix : \n",
      " [[4967  934]\n",
      " [  40   59]]\n",
      "auc (test dataset) : \n",
      " 0.7264510894404134\n",
      "confusion matrix : \n",
      " [[4878 1023]\n",
      " [  37   62]]\n",
      "auc (test dataset) : \n",
      " 0.7149276188422096\n",
      "confusion matrix : \n",
      " [[4742 1159]\n",
      " [  37   62]]\n",
      "auc (test dataset) : \n",
      " 0.7593294408241028\n",
      "confusion matrix : \n",
      " [[4968  933]\n",
      " [  32   67]]\n",
      "auc (test dataset) : \n",
      " 0.7369244041841906\n",
      "confusion matrix : \n",
      " [[4942  959]\n",
      " [  36   63]]\n",
      "auc (test dataset) : \n",
      " 0.7272470510904674\n",
      "confusion matrix : \n",
      " [[4947  954]\n",
      " [  38   61]]\n",
      "auc (test dataset) : \n",
      " 0.723485490389405\n",
      "confusion matrix : \n",
      " [[4843 1058]\n",
      " [  37   62]]\n",
      "auc (test dataset) : \n",
      " 0.7666343146770193\n",
      "confusion matrix : \n",
      " [[4935  966]\n",
      " [  30   69]]\n",
      "auc (test dataset) : \n",
      " 0.7348574715122759\n",
      "confusion matrix : \n",
      " [[4858 1043]\n",
      " [  35   64]]\n",
      "auc (test dataset) : \n",
      " 0.7101980660699522\n",
      "confusion matrix : \n",
      " [[4865 1036]\n",
      " [  40   59]]\n",
      "auc (test dataset) : \n",
      " 0.7439417047957972\n",
      "confusion matrix : \n",
      " [[4846 1055]\n",
      " [  33   66]]\n",
      "auc (test dataset) : \n",
      " 0.7296888560233757\n",
      "confusion matrix : \n",
      " [[4797 1104]\n",
      " [  35   64]]\n",
      "auc (test dataset) : \n",
      " 0.7339921841701201\n",
      "confusion matrix : \n",
      " [[4967  934]\n",
      " [  37   62]]\n",
      "auc (test dataset) : \n",
      " 0.7139776000985966\n",
      "confusion matrix : \n",
      " [[4850 1051]\n",
      " [  39   60]]\n",
      "auc (test dataset) : \n",
      " 0.7233160275864903\n",
      "confusion matrix : \n",
      " [[4841 1060]\n",
      " [  37   62]]\n",
      "auc (test dataset) : \n",
      " 0.7472282561250534\n",
      "confusion matrix : \n",
      " [[5004  897]\n",
      " [  35   64]]\n",
      "auc (test dataset) : \n",
      " 0.740449744008463\n",
      "confusion matrix : \n",
      " [[4924  977]\n",
      " [  35   64]]\n",
      "auc (test dataset) : \n",
      " 0.7256551277903591\n",
      "confusion matrix : \n",
      " [[4809 1092]\n",
      " [  36   63]]\n",
      "auc (test dataset) : \n",
      " 0.7172487457184966\n",
      "confusion matrix : \n",
      " [[4829 1072]\n",
      " [  38   61]]\n",
      "auc (test dataset) : \n",
      " 0.7385522741394629\n",
      "confusion matrix : \n",
      " [[4842 1059]\n",
      " [  34   65]]\n",
      "auc (test dataset) : \n",
      " 0.7217728890326754\n",
      "confusion matrix : \n",
      " [[4942  959]\n",
      " [  39   60]]\n",
      "auc (test dataset) : \n",
      " 0.7443319827661465\n",
      "confusion matrix : \n",
      " [[4791 1110]\n",
      " [  32   67]]\n",
      "auc (test dataset) : \n",
      " 0.7373660345190595\n",
      "confusion matrix : \n",
      " [[4828 1073]\n",
      " [  34   65]]\n",
      "auc (test dataset) : \n",
      " 0.7453821386205727\n",
      "confusion matrix : \n",
      " [[4863 1038]\n",
      " [  33   66]]\n",
      "auc (test dataset) : \n",
      " 0.7445682036429367\n",
      "confusion matrix : \n",
      " [[4913  988]\n",
      " [  34   65]]\n",
      "auc (test dataset) : \n",
      " 0.7136052954558292\n",
      "confusion matrix : \n",
      " [[4786 1115]\n",
      " [  38   61]]\n",
      "auc (test dataset) : \n",
      " 0.754771918472986\n",
      "confusion matrix : \n",
      " [[4795 1106]\n",
      " [  30   69]]\n",
      "auc (test dataset) : \n",
      " 0.7327725655127789\n",
      "confusion matrix : \n",
      " [[4893 1008]\n",
      " [  36   63]]\n",
      "auc (test dataset) : \n",
      " 0.7478907016273565\n",
      "confusion matrix : \n",
      " [[4833 1068]\n",
      " [  32   67]]\n",
      "auc (test dataset) : \n",
      " 0.7481448958317286\n",
      "confusion matrix : \n",
      " [[4836 1065]\n",
      " [  32   67]]\n",
      "auc (test dataset) : \n",
      " 0.7143165257044259\n",
      "confusion matrix : \n",
      " [[4854 1047]\n",
      " [  39   60]]\n",
      "auc (test dataset) : \n",
      " 0.7431611488550991\n",
      "confusion matrix : \n",
      " [[4956  945]\n",
      " [  35   64]]\n",
      "auc (test dataset) : \n",
      " 0.7252982288569477\n",
      "confusion matrix : \n",
      " [[4924  977]\n",
      " [  38   61]]\n",
      "auc (test dataset) : \n",
      " 0.7339588051331823\n",
      "confusion matrix : \n",
      " [[4907  994]\n",
      " [  36   63]]\n",
      "auc (test dataset) : \n",
      " 0.7389425521098119\n",
      "confusion matrix : \n",
      " [[4787 1114]\n",
      " [  33   66]]\n",
      "auc (test dataset) : \n",
      " 0.7175876713243261\n",
      "confusion matrix : \n",
      " [[4833 1068]\n",
      " [  38   61]]\n",
      "auc (test dataset) : \n",
      " 0.7375534706495561\n",
      "confusion matrix : \n",
      " [[4711 1190]\n",
      " [  32   67]]\n",
      "auc (test dataset) : \n",
      " 0.7284666697478085\n",
      "confusion matrix : \n",
      " [[5021  880]\n",
      " [  39   60]]\n",
      "auc (test dataset) : \n",
      " 0.735111665716648\n",
      "confusion matrix : \n",
      " [[4861 1040]\n",
      " [  35   64]]\n",
      "auc (test dataset) : \n",
      " 0.7363492577015709\n",
      "confusion matrix : \n",
      " [[4816 1085]\n",
      " [  34   65]]\n",
      "auc (test dataset) : \n",
      " 0.743584805862386\n",
      "confusion matrix : \n",
      " [[4961  940]\n",
      " [  35   64]]\n",
      "auc (test dataset) : \n",
      " 0.7512619843580698\n",
      "confusion matrix : \n",
      " [[4992  909]\n",
      " [  34   65]]\n",
      "auc (test dataset) : \n",
      " 0.7282818012355379\n",
      "confusion matrix : \n",
      " [[4840 1061]\n",
      " [  36   63]]\n",
      "auc (test dataset) : \n",
      " 0.7296888560233757\n",
      "confusion matrix : \n",
      " [[4797 1104]\n",
      " [  35   64]]\n",
      "auc (test dataset) : \n",
      " 0.737568876358912\n",
      "confusion matrix : \n",
      " [[4890 1011]\n",
      " [  35   64]]\n",
      "auc (test dataset) : \n",
      " 0.7219089727986525\n",
      "confusion matrix : \n",
      " [[4884 1017]\n",
      " [  38   61]]\n",
      "auc (test dataset) : \n",
      " 0.7445168512784172\n",
      "confusion matrix : \n",
      " [[4972  929]\n",
      " [  35   64]]\n",
      "auc (test dataset) : \n",
      " 0.7236883322292574\n",
      "confusion matrix : \n",
      " [[4905  996]\n",
      " [  38   61]]\n",
      "auc (test dataset) : \n",
      " 0.7300277816292052\n",
      "confusion matrix : \n",
      " [[4801 1100]\n",
      " [  35   64]]\n",
      "auc (test dataset) : \n",
      " 0.7283331536000576\n",
      "confusion matrix : \n",
      " [[4781 1120]\n",
      " [  35   64]]\n",
      "auc (test dataset) : \n",
      " 0.7278915232651887\n",
      "confusion matrix : \n",
      " [[4895 1006]\n",
      " [  37   62]]\n",
      "auc (test dataset) : \n",
      " 0.7491103202846974\n",
      "confusion matrix : \n",
      " [[4907  994]\n",
      " [  33   66]]\n",
      "auc (test dataset) : \n",
      " 0.7308057699516773\n",
      "confusion matrix : \n",
      " [[4989  912]\n",
      " [  38   61]]\n",
      "auc (test dataset) : \n",
      " 0.7146888303471933\n",
      "confusion matrix : \n",
      " [[4918  983]\n",
      " [  40   59]]\n",
      "auc (test dataset) : \n",
      " 0.7249593032511181\n",
      "confusion matrix : \n",
      " [[4920  981]\n",
      " [  38   61]]\n",
      "auc (test dataset) : \n",
      " 0.7516009099638993\n",
      "confusion matrix : \n",
      " [[4996  905]\n",
      " [  34   65]]\n",
      "auc (test dataset) : \n",
      " 0.7580584698022421\n",
      "confusion matrix : \n",
      " [[4953  948]\n",
      " [  32   67]]\n",
      "auc (test dataset) : \n",
      " 0.7470947399773022\n",
      "confusion matrix : \n",
      " [[4764 1137]\n",
      " [  31   68]]\n",
      "auc (test dataset) : \n",
      " 0.7358742483297644\n",
      "confusion matrix : \n",
      " [[4870 1031]\n",
      " [  35   64]]\n",
      "auc (test dataset) : \n",
      " 0.7191641889150786\n",
      "confusion matrix : \n",
      " [[4792 1109]\n",
      " [  37   62]]\n",
      "auc (test dataset) : \n",
      " 0.7198754191636754\n",
      "confusion matrix : \n",
      " [[4860 1041]\n",
      " [  38   61]]\n",
      "auc (test dataset) : \n",
      " 0.7529412066778615\n",
      "confusion matrix : \n",
      " [[4833 1068]\n",
      " [  31   68]]\n",
      "auc (test dataset) : \n",
      " 0.7184170120113181\n",
      "confusion matrix : \n",
      " [[4962  939]\n",
      " [  40   59]]\n",
      "auc (test dataset) : \n",
      " 0.7504326436710779\n",
      "confusion matrix : \n",
      " [[4863 1038]\n",
      " [  32   67]]\n",
      "auc (test dataset) : \n",
      " 0.7020124991655241\n",
      "confusion matrix : \n",
      " [[4828 1073]\n",
      " [  41   58]]\n",
      "auc (test dataset) : \n",
      " 0.721570047192823\n",
      "confusion matrix : \n",
      " [[4880 1021]\n",
      " [  38   61]]\n",
      "auc (test dataset) : \n",
      " 0.7332475748845856\n",
      "confusion matrix : \n",
      " [[4839 1062]\n",
      " [  35   64]]\n",
      "auc (test dataset) : \n",
      " 0.7389425521098119\n",
      "confusion matrix : \n",
      " [[4787 1114]\n",
      " [  33   66]]\n",
      "auc (test dataset) : \n",
      " 0.7289596524471968\n",
      "confusion matrix : \n",
      " [[4848 1053]\n",
      " [  36   63]]\n"
     ]
    },
    {
     "name": "stdout",
     "output_type": "stream",
     "text": [
      "auc (test dataset) : \n",
      " 0.7374841449574546\n",
      "confusion matrix : \n",
      " [[4889 1012]\n",
      " [  35   64]]\n",
      "auc (test dataset) : \n",
      " 0.7098591404641227\n",
      "confusion matrix : \n",
      " [[4861 1040]\n",
      " [  40   59]]\n",
      "auc (test dataset) : \n",
      " 0.7392121520235398\n",
      "confusion matrix : \n",
      " [[4969  932]\n",
      " [  36   63]]\n",
      "auc (test dataset) : \n",
      " 0.7177237550903032\n",
      "confusion matrix : \n",
      " [[4775 1126]\n",
      " [  37   62]]\n",
      "auc (test dataset) : \n",
      " 0.733737989965748\n",
      "confusion matrix : \n",
      " [[4964  937]\n",
      " [  37   62]]\n",
      "auc (test dataset) : \n",
      " 0.7328906759511742\n",
      "confusion matrix : \n",
      " [[4954  947]\n",
      " [  37   62]]\n",
      "auc (test dataset) : \n",
      " 0.7401108184026334\n",
      "confusion matrix : \n",
      " [[4920  981]\n",
      " [  35   64]]\n",
      "auc (test dataset) : \n",
      " 0.7399927079642382\n",
      "confusion matrix : \n",
      " [[4859 1042]\n",
      " [  34   65]]\n"
     ]
    }
   ],
   "source": [
    "\n",
    "# Nbr de modèles :\n",
    "\n",
    "K = 100\n",
    "\n",
    "# Taille des échantillons à mettre en face des fraudes :\n",
    "\n",
    "spl_siz = len( df_train_1.index )\n",
    "\n",
    "# Matrice de confusion et AUC sur ( X_test , y_test ) pour info\n",
    "\n",
    "lst_cfu_mtx = []\n",
    "lst_auc = []\n",
    "\n",
    "\n",
    "# prédictions sur train dataset :\n",
    "\n",
    "pred_train = {}\n",
    "\n",
    "# Hyper parameters - random grid :\n",
    "\n",
    "#n_estimators = [ int(x) for x in np.linspace( start = 200 , stop = 1000 , num = 10 ) ]\n",
    "#max_features = [ 'auto' , 'sqrt' ]\n",
    "#max_depth = [ int(x) for x in np.linspace( 10 , 110 , num = 11 ) ]\n",
    "#max_depth.append( None )\n",
    "#min_samples_split = [ 2 , 5 , 10 ]\n",
    "#min_samples_leaf = [ 1 , 2 , 4 ]\n",
    "#bootstrap = [ True , False ]\n",
    "\n",
    "#random_grid = { 'n_estimators': n_estimators,\n",
    "#                'max_features': max_features,\n",
    "#                'max_depth': max_depth,\n",
    "#                'min_samples_split': min_samples_split,\n",
    "#                'min_samples_leaf': min_samples_leaf,\n",
    "#                'bootstrap': bootstrap }\n",
    "\n",
    "# K randomforests\n",
    "for i in range( 0 , K ) :\n",
    "    \n",
    "    # train dataset - échantillon de sinistres non fraude (autant que de sinistres fraude dans le train dataset)\n",
    "    df_train_0_spl = df_train_0.sample( n =  spl_siz ) \n",
    "    # train dataset - concaténation des sinistres fraude et de l'échantillon de sinistres non fraude\n",
    "    df_tmp = pd.concat( [ df_train_1 , df_train_0_spl ] , axis = 0 )\n",
    "    \n",
    "    df_X_train = df_tmp[ X_var ]\n",
    "    df_y_train = df_tmp[ y_var ]\n",
    "    \n",
    "    X_train = df_X_train.values\n",
    "    y_train = np.ravel( df_y_train.values )\n",
    "    \n",
    "    clf0 = RandomForestClassifier( n_estimators = 100 )\n",
    "    #clf = RandomizedSearchCV( estimator = clf0 , \n",
    "    #                          param_distributions = random_grid , \n",
    "    #                          n_iter = 100 , \n",
    "    #                          cv = 3 , \n",
    "    #                          verbose = 2 , \n",
    "    #                          random_state = 123 ,\n",
    "    #                          n_jobs = -1 )\n",
    "    clf = clf0\n",
    "    \n",
    "    clf.fit( X_train , y_train )\n",
    "    \n",
    "    # Meilleurs hyper paramètres :\n",
    "    #print( clf.best_params_ )\n",
    "    \n",
    "    # Sauvegarde des modèles sur disque\n",
    "    filename = './mdl/_mdl_' + str( i ) +'.sav'\n",
    "    pickle.dump( clf , open( filename , 'wb' ) )\n",
    "    \n",
    "    \n",
    "    # Prédictions sur test dataset\n",
    "    y_test_pred = clf.predict( X_test )\n",
    "    \n",
    "    # Matrice de confusion sur test dataset\n",
    "    cfu_mtx = confusion_matrix( y_test , y_test_pred )\n",
    "    lst_cfu_mtx.append( cfu_mtx )\n",
    "    \n",
    "    # AUC sur test dataset\n",
    "    auc = roc_auc_score( y_test , y_test_pred )\n",
    "    lst_auc.append( auc )\n",
    "    \n",
    "    #print( 'confusion matrix (test dataset):\\n {0}'.format( cfu_mtx ) )\n",
    "    print( 'auc (test dataset) : \\n {0}'.format( auc ) )\n",
    "    print( 'confusion matrix : \\n {0}'.format( cfu_mtx ) )\n",
    "    \n",
    "    \n",
    "    x_train_pred = clf.predict( X_train )\n",
    "    col = 'x_pred_' + str( i ) \n",
    "    pred_train[ col ] = x_train_pred\n",
    "\n",
    "# dataframe des prédictions : df_X_train_pred ( utile ? )\n",
    "df_X_train_pred = pd.DataFrame( pred_train )\n",
    "df_X_train_pred = df_X_train_pred[ sorted( df_X_train_pred.columns ) ]"
   ]
  },
  {
   "cell_type": "code",
   "execution_count": 14,
   "metadata": {},
   "outputs": [],
   "source": [
    "df_auc = pd.DataFrame( lst_auc , columns = [ 'auc' ] )"
   ]
  },
  {
   "cell_type": "code",
   "execution_count": 15,
   "metadata": {
    "scrolled": true
   },
   "outputs": [
    {
     "data": {
      "text/plain": [
       "auc    0.666631\n",
       "dtype: float64"
      ]
     },
     "execution_count": 15,
     "metadata": {},
     "output_type": "execute_result"
    }
   ],
   "source": [
    "df_auc.mean()"
   ]
  },
  {
   "cell_type": "code",
   "execution_count": 16,
   "metadata": {
    "scrolled": true
   },
   "outputs": [
    {
     "data": {
      "text/plain": [
       "array([[<matplotlib.axes._subplots.AxesSubplot object at 0x000000000C005080>]],\n",
       "      dtype=object)"
      ]
     },
     "execution_count": 16,
     "metadata": {},
     "output_type": "execute_result"
    },
    {
     "data": {
      "image/png": "[encoded data removed]",
      "text/plain": [
       "<Figure size 432x288 with 1 Axes>"
      ]
     },
     "metadata": {
      "needs_background": "light"
     },
     "output_type": "display_data"
    }
   ],
   "source": [
    "df_auc.hist()"
   ]
  },
  {
   "cell_type": "markdown",
   "metadata": {},
   "source": [
    "### Prédiction de tous les modèles sur le test dataset ( X_test )"
   ]
  },
  {
   "cell_type": "code",
   "execution_count": 44,
   "metadata": {},
   "outputs": [],
   "source": [
    "pred = {}\n",
    "\n",
    "for i in range( 0 , K ) :\n",
    "    filename = './mdl/_mdl_' + str( i ) + '.sav'\n",
    "    clf = pickle.load( open( filename , 'rb' ) )\n",
    "    #x_test_pred = clf.predict_proba( X_test )\n",
    "    y_test_pred = clf.predict( X_test )\n",
    "    col = 'y_pred_' + str( i )\n",
    "    #pred[ col ] = x_test_pred[ : , 0 ]\n",
    "    pred[ col ] = y_test_pred\n",
    "    \n",
    "    \n",
    "df_X_test_pred = pd.DataFrame( pred )\n",
    "df_X_test_pred = df_X_test_pred[ sorted( df_X_test_pred.columns ) ]"
   ]
  },
  {
   "cell_type": "markdown",
   "metadata": {},
   "source": [
    "### Comptabilisation de la proportion de modèles contre"
   ]
  },
  {
   "cell_type": "code",
   "execution_count": 45,
   "metadata": {},
   "outputs": [],
   "source": [
    "df_X_test_pred[ 'cons' ] = df_X_test_pred.sum( axis = 1 ).apply( lambda x : ( K - x ) / K )"
   ]
  },
  {
   "cell_type": "markdown",
   "metadata": {},
   "source": [
    "### Vote des RandomForest"
   ]
  },
  {
   "cell_type": "code",
   "execution_count": 46,
   "metadata": {},
   "outputs": [],
   "source": [
    "df_X_test_pred[ 'y_pred' ] = np.where( df_X_test_pred[ 'cons' ] < 0.50 , 1 , 0 )"
   ]
  },
  {
   "cell_type": "code",
   "execution_count": 47,
   "metadata": {},
   "outputs": [],
   "source": [
    "df_X_test_pred[ 'y_real' ] = y_test"
   ]
  },
  {
   "cell_type": "code",
   "execution_count": 48,
   "metadata": {},
   "outputs": [
    {
     "data": {
      "text/plain": [
       "0.7382107809154071"
      ]
     },
     "execution_count": 48,
     "metadata": {},
     "output_type": "execute_result"
    }
   ],
   "source": [
    "roc_auc_score( y_test , df_X_test_pred[ 'y_pred' ] )"
   ]
  },
  {
   "cell_type": "code",
   "execution_count": 49,
   "metadata": {},
   "outputs": [
    {
     "data": {
      "text/plain": [
       "array([[5136,  765],\n",
       "       [  39,   60]], dtype=int64)"
      ]
     },
     "execution_count": 49,
     "metadata": {},
     "output_type": "execute_result"
    }
   ],
   "source": [
    "confusion_matrix( y_test , df_X_test_pred[ 'y_pred' ] )"
   ]
  },
  {
   "cell_type": "markdown",
   "metadata": {},
   "source": [
    "### AUC Baseline vs RandomJungle"
   ]
  },
  {
   "cell_type": "code",
   "execution_count": 23,
   "metadata": {},
   "outputs": [
    {
     "ename": "ValueError",
     "evalue": "If using all scalar values, you must pass an index",
     "output_type": "error",
     "traceback": [
      "\u001b[1;31m---------------------------------------------------------------------------\u001b[0m",
      "\u001b[1;31mValueError\u001b[0m                                Traceback (most recent call last)",
      "\u001b[1;32m<ipython-input-23-7d8402e5d8b8>\u001b[0m in \u001b[0;36m<module>\u001b[1;34m\u001b[0m\n\u001b[0;32m      1\u001b[0m df_auc_versus = pd.DataFrame(  { 'auc_bsl'        : auc , \n\u001b[1;32m----> 2\u001b[1;33m                                  'auc_randjgl'    : roc_auc_score( y_test , df_X_test_pred[ 'y_pred' ] ) } ) \n\u001b[0m",
      "\u001b[1;32m~\\Anaconda3\\lib\\site-packages\\pandas\\core\\frame.py\u001b[0m in \u001b[0;36m__init__\u001b[1;34m(self, data, index, columns, dtype, copy)\u001b[0m\n\u001b[0;32m    390\u001b[0m                                  dtype=dtype, copy=copy)\n\u001b[0;32m    391\u001b[0m         \u001b[1;32melif\u001b[0m \u001b[0misinstance\u001b[0m\u001b[1;33m(\u001b[0m\u001b[0mdata\u001b[0m\u001b[1;33m,\u001b[0m \u001b[0mdict\u001b[0m\u001b[1;33m)\u001b[0m\u001b[1;33m:\u001b[0m\u001b[1;33m\u001b[0m\u001b[1;33m\u001b[0m\u001b[0m\n\u001b[1;32m--> 392\u001b[1;33m             \u001b[0mmgr\u001b[0m \u001b[1;33m=\u001b[0m \u001b[0minit_dict\u001b[0m\u001b[1;33m(\u001b[0m\u001b[0mdata\u001b[0m\u001b[1;33m,\u001b[0m \u001b[0mindex\u001b[0m\u001b[1;33m,\u001b[0m \u001b[0mcolumns\u001b[0m\u001b[1;33m,\u001b[0m \u001b[0mdtype\u001b[0m\u001b[1;33m=\u001b[0m\u001b[0mdtype\u001b[0m\u001b[1;33m)\u001b[0m\u001b[1;33m\u001b[0m\u001b[1;33m\u001b[0m\u001b[0m\n\u001b[0m\u001b[0;32m    393\u001b[0m         \u001b[1;32melif\u001b[0m \u001b[0misinstance\u001b[0m\u001b[1;33m(\u001b[0m\u001b[0mdata\u001b[0m\u001b[1;33m,\u001b[0m \u001b[0mma\u001b[0m\u001b[1;33m.\u001b[0m\u001b[0mMaskedArray\u001b[0m\u001b[1;33m)\u001b[0m\u001b[1;33m:\u001b[0m\u001b[1;33m\u001b[0m\u001b[1;33m\u001b[0m\u001b[0m\n\u001b[0;32m    394\u001b[0m             \u001b[1;32mimport\u001b[0m \u001b[0mnumpy\u001b[0m\u001b[1;33m.\u001b[0m\u001b[0mma\u001b[0m\u001b[1;33m.\u001b[0m\u001b[0mmrecords\u001b[0m \u001b[1;32mas\u001b[0m \u001b[0mmrecords\u001b[0m\u001b[1;33m\u001b[0m\u001b[1;33m\u001b[0m\u001b[0m\n",
      "\u001b[1;32m~\\Anaconda3\\lib\\site-packages\\pandas\\core\\internals\\construction.py\u001b[0m in \u001b[0;36minit_dict\u001b[1;34m(data, index, columns, dtype)\u001b[0m\n\u001b[0;32m    210\u001b[0m         \u001b[0marrays\u001b[0m \u001b[1;33m=\u001b[0m \u001b[1;33m[\u001b[0m\u001b[0mdata\u001b[0m\u001b[1;33m[\u001b[0m\u001b[0mk\u001b[0m\u001b[1;33m]\u001b[0m \u001b[1;32mfor\u001b[0m \u001b[0mk\u001b[0m \u001b[1;32min\u001b[0m \u001b[0mkeys\u001b[0m\u001b[1;33m]\u001b[0m\u001b[1;33m\u001b[0m\u001b[1;33m\u001b[0m\u001b[0m\n\u001b[0;32m    211\u001b[0m \u001b[1;33m\u001b[0m\u001b[0m\n\u001b[1;32m--> 212\u001b[1;33m     \u001b[1;32mreturn\u001b[0m \u001b[0marrays_to_mgr\u001b[0m\u001b[1;33m(\u001b[0m\u001b[0marrays\u001b[0m\u001b[1;33m,\u001b[0m \u001b[0mdata_names\u001b[0m\u001b[1;33m,\u001b[0m \u001b[0mindex\u001b[0m\u001b[1;33m,\u001b[0m \u001b[0mcolumns\u001b[0m\u001b[1;33m,\u001b[0m \u001b[0mdtype\u001b[0m\u001b[1;33m=\u001b[0m\u001b[0mdtype\u001b[0m\u001b[1;33m)\u001b[0m\u001b[1;33m\u001b[0m\u001b[1;33m\u001b[0m\u001b[0m\n\u001b[0m\u001b[0;32m    213\u001b[0m \u001b[1;33m\u001b[0m\u001b[0m\n\u001b[0;32m    214\u001b[0m \u001b[1;33m\u001b[0m\u001b[0m\n",
      "\u001b[1;32m~\\Anaconda3\\lib\\site-packages\\pandas\\core\\internals\\construction.py\u001b[0m in \u001b[0;36marrays_to_mgr\u001b[1;34m(arrays, arr_names, index, columns, dtype)\u001b[0m\n\u001b[0;32m     49\u001b[0m     \u001b[1;31m# figure out the index, if necessary\u001b[0m\u001b[1;33m\u001b[0m\u001b[1;33m\u001b[0m\u001b[1;33m\u001b[0m\u001b[0m\n\u001b[0;32m     50\u001b[0m     \u001b[1;32mif\u001b[0m \u001b[0mindex\u001b[0m \u001b[1;32mis\u001b[0m \u001b[1;32mNone\u001b[0m\u001b[1;33m:\u001b[0m\u001b[1;33m\u001b[0m\u001b[1;33m\u001b[0m\u001b[0m\n\u001b[1;32m---> 51\u001b[1;33m         \u001b[0mindex\u001b[0m \u001b[1;33m=\u001b[0m \u001b[0mextract_index\u001b[0m\u001b[1;33m(\u001b[0m\u001b[0marrays\u001b[0m\u001b[1;33m)\u001b[0m\u001b[1;33m\u001b[0m\u001b[1;33m\u001b[0m\u001b[0m\n\u001b[0m\u001b[0;32m     52\u001b[0m     \u001b[1;32melse\u001b[0m\u001b[1;33m:\u001b[0m\u001b[1;33m\u001b[0m\u001b[1;33m\u001b[0m\u001b[0m\n\u001b[0;32m     53\u001b[0m         \u001b[0mindex\u001b[0m \u001b[1;33m=\u001b[0m \u001b[0mensure_index\u001b[0m\u001b[1;33m(\u001b[0m\u001b[0mindex\u001b[0m\u001b[1;33m)\u001b[0m\u001b[1;33m\u001b[0m\u001b[1;33m\u001b[0m\u001b[0m\n",
      "\u001b[1;32m~\\Anaconda3\\lib\\site-packages\\pandas\\core\\internals\\construction.py\u001b[0m in \u001b[0;36mextract_index\u001b[1;34m(data)\u001b[0m\n\u001b[0;32m    306\u001b[0m \u001b[1;33m\u001b[0m\u001b[0m\n\u001b[0;32m    307\u001b[0m         \u001b[1;32mif\u001b[0m \u001b[1;32mnot\u001b[0m \u001b[0mindexes\u001b[0m \u001b[1;32mand\u001b[0m \u001b[1;32mnot\u001b[0m \u001b[0mraw_lengths\u001b[0m\u001b[1;33m:\u001b[0m\u001b[1;33m\u001b[0m\u001b[1;33m\u001b[0m\u001b[0m\n\u001b[1;32m--> 308\u001b[1;33m             raise ValueError('If using all scalar values, you must pass'\n\u001b[0m\u001b[0;32m    309\u001b[0m                              ' an index')\n\u001b[0;32m    310\u001b[0m \u001b[1;33m\u001b[0m\u001b[0m\n",
      "\u001b[1;31mValueError\u001b[0m: If using all scalar values, you must pass an index"
     ]
    }
   ],
   "source": [
    "df_auc_versus = pd.DataFrame(  { 'auc_bsl'        : auc , \n",
    "                                 'auc_randjgl'    : roc_auc_score( y_test , df_X_test_pred[ 'y_pred' ] ) } ) "
   ]
  },
  {
   "cell_type": "code",
   "execution_count": 204,
   "metadata": {},
   "outputs": [
    {
     "data": {
      "text/plain": [
       "<matplotlib.axes._subplots.AxesSubplot at 0x27042a1fa58>"
      ]
     },
     "execution_count": 204,
     "metadata": {},
     "output_type": "execute_result"
    },
    {
     "data": {
      "image/png": "[encoded data removed]",
      "text/plain": [
       "<Figure size 432x288 with 1 Axes>"
      ]
     },
     "metadata": {},
     "output_type": "display_data"
    }
   ],
   "source": [
    "import matplotlib\n",
    "\n",
    "#df_auc_versus.plot.bar( rot = 360 , width=0.85 , alpha=0.6 , figsize = ( 10 , 8 ) )\n",
    "\n",
    "df_auc_versus.plot( kind = 'barh' , title = 'AUC : baseline vs RandomJungle' , legend = 'reverse' )"
   ]
  },
  {
   "cell_type": "code",
   "execution_count": null,
   "metadata": {},
   "outputs": [],
   "source": []
  }
 ],
 "metadata": {
  "kernelspec": {
   "display_name": "Python 3",
   "language": "python",
   "name": "python3"
  },
  "language_info": {
   "codemirror_mode": {
    "name": "ipython",
    "version": 3
   },
   "file_extension": ".py",
   "mimetype": "text/x-python",
   "name": "python",
   "nbconvert_exporter": "python",
   "pygments_lexer": "ipython3",
   "version": "3.7.3"
  }
 },
 "nbformat": 4,
 "nbformat_minor": 2
}
